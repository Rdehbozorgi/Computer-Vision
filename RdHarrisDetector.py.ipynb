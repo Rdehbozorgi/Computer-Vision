{
 "cells": [
  {
   "cell_type": "code",
   "execution_count": 9,
   "metadata": {},
   "outputs": [
    {
     "data": {
      "text/plain": [
       "<matplotlib.image.AxesImage at 0x12fba91e048>"
      ]
     },
     "execution_count": 9,
     "metadata": {},
     "output_type": "execute_result"
    },
    {
     "data": {
      "image/png": "[encoded data removed]",
      "text/plain": [
       "<Figure size 432x288 with 1 Axes>"
      ]
     },
     "metadata": {
      "needs_background": "light"
     },
     "output_type": "display_data"
    }
   ],
   "source": [
    "%config IPCompleter.greedy=True # for intellisense or auto complition\n",
    "from skimage.io import imread\n",
    "from skimage.color import rgb2gray\n",
    "import matplotlib.pyplot as plt\n",
    "import numpy as np\n",
    "\n",
    "imggray = imread('1pyfiles/box.jpg','gray') # The root directory / or using #imggray=rgb2gray(img)\n",
    "plt.imshow(imggray)\n",
    "\n",
    "#-----------------------------\n",
    "#Sobel operator kernels\n",
    "#----------------------------\n",
    "from scipy import signal as sig\n",
    "import numpy as np\n",
    "def gradient_x(imggray):\n",
    "    kernel_x = np.array([[-1, 0, 1],[-2, 0, 2],[-1, 0, 1]])\n",
    "    return sig.convolve2d(imggray, kernel_x, mode='same')\n",
    "def gradient_y(imggray):\n",
    "    kernel_y = np.array([[1, 2, 1], [0, 0, 0], [-1, -2, -1]])\n",
    "    return sig.convolve2d(imggray, kernel_y, mode='same')\n",
    "I_x = gradient_x(imggray)\n",
    "I_y = gradient_y(imggray)\n",
    "#print(I_x)\n",
    "Ixx = I_x**2\n",
    "Ixy = I_y*I_x\n",
    "Iyy = I_y**2\n",
    "\n",
    "#---------------------------------------\n",
    "#Harris corners\n",
    "#----------------------------------------\n",
    "from numpy import linalg as LA\n",
    "from PIL import Image\n",
    "offset=1\n",
    "k=0.04\n",
    "im = Image.open('1pyfiles/box.jpg')\n",
    "imgcopy = np.array(im)  # Converting image to array\n",
    "#import shutil  #using for copy of an image \n",
    "#shutil.copy(\"1pyfiles/box.jpg\",\"1pyfiles/box2.jpg\")\n",
    "width, height=im.size\n",
    "r = np.zeros((width-1, height-1))\n",
    " # or maybe this command height, width = np.array(im).shape\n",
    "for y in range(offset, height-offset):\n",
    "    for x in range(offset, width-offset):\n",
    "        Sxx = np.sum(Ixx[y-offset:y+1+offset, x-offset:x+1+offset])\n",
    "        Syy = np.sum(Iyy[y-offset:y+1+offset, x-offset:x+1+offset])\n",
    "        Sxy = np.sum(Ixy[y-offset:y+1+offset, x-offset:x+1+offset])\n",
    "        r1=np.array([[Sxx,Sxy],[Sxy,Syy]]) # Constructing the Matrix M\n",
    "        w, v = LA.eig(r1) #Obtaining the eigenvalues\n",
    "        det=w[0]*w[1]\n",
    "        trace=w[0]+w[1]\n",
    "        r[x,y] = det - k*(trace**2)\n",
    "        if r[x,y]>0:\n",
    "            imgcopy[y,x]=[0,255,0]\n",
    "plt.imshow(imgcopy)"
   ]
  },
  {
   "cell_type": "code",
   "execution_count": null,
   "metadata": {},
   "outputs": [],
   "source": []
  }
 ],
 "metadata": {
  "kernelspec": {
   "display_name": "Python 3",
   "language": "python",
   "name": "python3"
  },
  "language_info": {
   "codemirror_mode": {
    "name": "ipython",
    "version": 3
   },
   "file_extension": ".py",
   "mimetype": "text/x-python",
   "name": "python",
   "nbconvert_exporter": "python",
   "pygments_lexer": "ipython3",
   "version": "3.7.3"
  }
 },
 "nbformat": 4,
 "nbformat_minor": 2
}
